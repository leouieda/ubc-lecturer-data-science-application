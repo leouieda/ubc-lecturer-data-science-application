{
 "cells": [
  {
   "cell_type": "markdown",
   "metadata": {},
   "source": [
    "# Repeating actions with a `for` loop\n",
    "\n",
    "In this module, we'll look at repeating a given action multiple times for different inputs.\n",
    "\n",
    "### Prerequisite Python skills\n",
    "\n",
    "* variables (ints, floats, strings, lists)\n",
    "* numpy arrays\n",
    "* simple plots with matplotlib\n",
    "\n",
    "### Objectives\n",
    "\n",
    "* Understand the mechanics of the `for` loop\n",
    "* Apply it to a real world problem"
   ]
  },
  {
   "cell_type": "markdown",
   "metadata": {},
   "source": [
    "## Recap\n",
    "\n",
    "In the previous lesson, we learned how to load a temperature anomaly dataset using `numpy.loadtxt` and plot it using matplotlib. The data was downloaded from the [Berkley Earth](http://berkeleyearth.org/) website.\n",
    "\n",
    "Let's recap how we did that:\n"
   ]
  },
  {
   "cell_type": "code",
   "execution_count": null,
   "metadata": {},
   "outputs": [],
   "source": []
  },
  {
   "cell_type": "code",
   "execution_count": null,
   "metadata": {},
   "outputs": [],
   "source": []
  },
  {
   "cell_type": "code",
   "execution_count": null,
   "metadata": {},
   "outputs": [],
   "source": []
  },
  {
   "cell_type": "markdown",
   "metadata": {},
   "source": [
    "## The problem\n",
    "\n",
    "Now that we can make this plot for Canada, **we want to add data from other countries to the plot**. \n",
    "\n",
    "Our `data` folder has a total of 20 files that we have to load and plot. It would be tedious to do this by copy-paste. It would be impossible if we had 20000 files instead of 20."
   ]
  },
  {
   "cell_type": "code",
   "execution_count": null,
   "metadata": {},
   "outputs": [],
   "source": []
  },
  {
   "cell_type": "markdown",
   "metadata": {},
   "source": [
    "We know how to load and plot data from a single file:\n",
    "\n",
    "```python\n",
    "data = np.loadtxt(data_file, comments='%')\n",
    "year = data[:, 0]\n",
    "month = data[:, 1]\n",
    "temperature_anomaly = data[:, 4]\n",
    "year_decimal = year + (month - 1)/12\n",
    "\n",
    "plt.plot(year_decimal, temperature_anomaly, '-k')\n",
    "```\n",
    "\n",
    "The `for` loop allows us to repeat a given set of actions **for each element in a set of elements**. "
   ]
  },
  {
   "cell_type": "markdown",
   "metadata": {},
   "source": [
    "## Introducing the `for` loop\n",
    "\n",
    "Let's try it on a simpler example first. Say I want to **print the first name of each person in a list of names**."
   ]
  },
  {
   "cell_type": "code",
   "execution_count": null,
   "metadata": {},
   "outputs": [],
   "source": [
    "names = ['Nelson Mandela', 'Albert Einstein', 'Janis Joplin', 'Marie Curie']"
   ]
  },
  {
   "cell_type": "code",
   "execution_count": null,
   "metadata": {},
   "outputs": [],
   "source": []
  },
  {
   "cell_type": "code",
   "execution_count": null,
   "metadata": {},
   "outputs": [],
   "source": []
  },
  {
   "cell_type": "markdown",
   "metadata": {},
   "source": [
    "## Plotting the temperature anomaly for the 20 countries\n",
    "\n",
    "In plain English, we could describe the instructions as:\n",
    "\n",
    "1. Given a list of file names\n",
    "2. For each file name in the list of file names do the following:\n",
    "    1. Load the data in that file name\n",
    "    2. Extract the desired fields from that data\n",
    "    3. Plot the desired fields\n",
    "    \n",
    "The first thing we need is to get a list of all file names. The `glob` function from Python's `glob` module is exactly what we need."
   ]
  },
  {
   "cell_type": "code",
   "execution_count": null,
   "metadata": {},
   "outputs": [],
   "source": []
  },
  {
   "cell_type": "code",
   "execution_count": null,
   "metadata": {},
   "outputs": [],
   "source": []
  },
  {
   "cell_type": "markdown",
   "metadata": {},
   "source": [
    "Now we put it all together:"
   ]
  },
  {
   "cell_type": "code",
   "execution_count": null,
   "metadata": {},
   "outputs": [],
   "source": []
  },
  {
   "cell_type": "code",
   "execution_count": null,
   "metadata": {},
   "outputs": [],
   "source": []
  },
  {
   "cell_type": "code",
   "execution_count": null,
   "metadata": {},
   "outputs": [],
   "source": []
  },
  {
   "cell_type": "markdown",
   "metadata": {},
   "source": [
    "## Building a list of values using the *aggregator pattern*\n",
    "\n",
    "Sometimes, we want to extract or calculate a value based on each element of a list. For example, let's say we want to calculate the minimum and maximum temperature anomalies for each country. A common way of doing this is with the *aggregator pattern*:\n",
    "\n",
    "1. Start with an empty list\n",
    "2. For each element of another list do this:\n",
    "    1. Calculate a new value based on the element\n",
    "    2. Add the calculated value to the list\n",
    "    \n",
    "In the end, our list will be fully populated."
   ]
  },
  {
   "cell_type": "markdown",
   "metadata": {},
   "source": [
    "Let's start with a simpler example. We want to **build a list of country names based on the list of data file names**.\n",
    "\n",
    "First, let's do it for a single data file."
   ]
  },
  {
   "cell_type": "code",
   "execution_count": null,
   "metadata": {},
   "outputs": [],
   "source": []
  },
  {
   "cell_type": "code",
   "execution_count": null,
   "metadata": {},
   "outputs": [],
   "source": []
  },
  {
   "cell_type": "code",
   "execution_count": null,
   "metadata": {},
   "outputs": [],
   "source": []
  },
  {
   "cell_type": "code",
   "execution_count": null,
   "metadata": {},
   "outputs": [],
   "source": []
  },
  {
   "cell_type": "markdown",
   "metadata": {},
   "source": [
    "## Exercise 1 - Calculate the temperature trend\n",
    "\n",
    "Now that we know how to load the temperature anomaly time series for each country, we can calculate the **rate of change** for each country. We do this by fitting a straight line to the time series using **linear regression** and taking the estimated **slope**. Fortunately, there are several functions in Python that do this, for example [`scipy.stats.linregress`](https://docs.scipy.org/doc/scipy-0.14.0/reference/generated/scipy.stats.linregress.html).\n",
    "\n",
    "**Your task is to**:\n",
    "\n",
    "1. Calculate the slope of the temperature series for each country\n",
    "2. Make a bar plot of the temperature rate of change (slope) for each country\n",
    "\n",
    "**Tips**:\n",
    "* Remember the *aggregator pattern* for building a list using `.append`.\n"
   ]
  },
  {
   "cell_type": "code",
   "execution_count": null,
   "metadata": {},
   "outputs": [],
   "source": []
  },
  {
   "cell_type": "code",
   "execution_count": null,
   "metadata": {},
   "outputs": [],
   "source": []
  },
  {
   "cell_type": "markdown",
   "metadata": {},
   "source": [
    "## Exercise 2 - Downloading a batch of data \n",
    "\n",
    "We only used the data from 20 countries. Let's say we want to use all countries in out analysis. The file `countries-all.txt` has a list of sovereign states [scrapped from Wikipedia](https://en.wikipedia.org/wiki/List_of_sovereign_states)."
   ]
  },
  {
   "cell_type": "code",
   "execution_count": null,
   "metadata": {},
   "outputs": [],
   "source": [
    "!head countries-all.txt"
   ]
  },
  {
   "cell_type": "code",
   "execution_count": null,
   "metadata": {},
   "outputs": [],
   "source": [
    "!wc countries-all.txt"
   ]
  },
  {
   "cell_type": "markdown",
   "metadata": {},
   "source": [
    "There are 237 countries in the list. Luckily, we can automate the download of a data file using Python's `urllib` module, in particular function [`urllib.request.urlretrieve`](https://docs.python.org/3/library/urllib.request.html#urllib.request.urlretrieve).\n",
    "\n",
    "The URL for a country's data file in Berkeley Earth is `http://berkeleyearth.lbl.gov/auto/Regional/TAVG/Text/country-name-in-lowercase-TAVG-Trend.txt`. For example, the file for Canada is `http://berkeleyearth.lbl.gov/auto/Regional/TAVG/Text/canada-TAVG-Trend.txt` and the file for American Samoa is `http://berkeleyearth.lbl.gov/auto/Regional/TAVG/Text/american-samoa-TAVG-Trend.txt`.\n",
    "\n",
    "**Your task is to:**\n",
    "\n",
    "* Download the temperature data file for each country in `countries-all.txt`\n",
    "* Save each data file in a folder called `data_all`\n",
    "* Load the data for each of the 237 countries and calculate the rate of temperature change\n",
    "* Make a bar plot of the rate of change for each country\n",
    "* *BONUS*: Plot the rate of change in a map"
   ]
  },
  {
   "cell_type": "code",
   "execution_count": null,
   "metadata": {},
   "outputs": [],
   "source": []
  }
 ],
 "metadata": {
  "kernelspec": {
   "display_name": "Python 3",
   "language": "python",
   "name": "python3"
  },
  "language_info": {
   "codemirror_mode": {
    "name": "ipython",
    "version": 3
   },
   "file_extension": ".py",
   "mimetype": "text/x-python",
   "name": "python",
   "nbconvert_exporter": "python",
   "pygments_lexer": "ipython3",
   "version": "3.6.5"
  }
 },
 "nbformat": 4,
 "nbformat_minor": 2
}
